{
 "cells": [
  {
   "cell_type": "markdown",
   "metadata": {},
   "source": [
    "*이 노트북은 제이크 반더플라스(Jake VanderPlas)의 [A Whirlwind Tour of Python](http://www.oreilly.com/programming/free/a-whirlwind-tour-of-python.csp)(OReilly Media, 2016)를 기반으로 만들어졌습니다. 이 내용은 [CC0](https://github.com/jakevdp/WhirlwindTourOfPython/blob/master/LICENSE) 라이센스를 따릅니다. 전체 노트북의 목록은 https://github.com/rickiepark/WhirlwindTourOfPython 에서 볼 수 있습니다.*"
   ]
  },
  {
   "cell_type": "markdown",
   "metadata": {},
   "source": [
    "< [간단한 기본 데이터 타입](05-간단한 기본 데이터 타입.ipynb) | [목차](목차.ipynb) | [제어문](07-제어문.ipynb) >"
   ]
  },
  {
   "cell_type": "markdown",
   "metadata": {},
   "source": [
    "# 기본 데이터 구조"
   ]
  },
  {
   "cell_type": "markdown",
   "metadata": {},
   "source": [
    "파이썬의 간단한 데이터 타입인 ``int``, ``float``, ``complex``, ``bool``, ``str`` 등을 살펴 봤습니다.\n",
    "파이썬은 다른 데이터 타입을 포함할 수 있는 복합 데이터 타입 몇 개를 기본으로 가지고 있습니다.\n",
    "복합 데이터 타입은 다음과 같습니다:\n",
    "\n",
    "| 타입 | 예                   |설명                            |\n",
    "|-----------|---------------------------|---------------------------------------|\n",
    "| ``list``  | ``[1, 2, 3]``             | 순서가 있는 모음                    |\n",
    "| ``tuple`` | ``(1, 2, 3)``             | 변경 불가능한 순서가 있는 모음          |\n",
    "| ``dict``  | ``{'a':1, 'b':2, 'c':3}`` | 순서없는 (키,값) 매핑         |\n",
    "| ``set``   | ``{1, 2, 3}``             | 순서없는 고유한 값들의 모음 |\n",
    "\n",
    "테이블에서 보듯이 괄호, 대괄호, 중괄호는 어떤 데이터 타입이 만들어질지 결정합니다.\n",
    "이 구조들을 여기에서 간단하게 살펴 보겠습니다."
   ]
  },
  {
   "cell_type": "markdown",
   "metadata": {},
   "source": [
    "## 리스트\n",
    "리스트는 파이썬의 기본 복합 데이터 타입으로 *순서가 있고 변경 가능*합니다. \n",
    "리스트는 대괄호 사이에 콤마로 값을 나열하여 정의합니다. 예를 들어, 다음은 소수로 이루어진 리스트입니다:"
   ]
  },
  {
   "cell_type": "code",
   "execution_count": 1,
   "metadata": {},
   "outputs": [],
   "source": [
    "L = [2, 3, 5, 7]"
   ]
  },
  {
   "cell_type": "markdown",
   "metadata": {},
   "source": [
    "리스트는 유용한 속성과 메서드를 많이 가지고 있습니다. 다음은 이 중에 가장 많이 사용하는 것중 일부입니다:"
   ]
  },
  {
   "cell_type": "code",
   "execution_count": 2,
   "metadata": {},
   "outputs": [
    {
     "data": {
      "text/plain": [
       "4"
      ]
     },
     "execution_count": 2,
     "metadata": {},
     "output_type": "execute_result"
    }
   ],
   "source": [
    "# 리스트의 길이\n",
    "len(L)"
   ]
  },
  {
   "cell_type": "code",
   "execution_count": 3,
   "metadata": {},
   "outputs": [
    {
     "data": {
      "text/plain": [
       "[2, 3, 5, 7, 11]"
      ]
     },
     "execution_count": 3,
     "metadata": {},
     "output_type": "execute_result"
    }
   ],
   "source": [
    "# 리스트 끝에 추가\n",
    "L.append(11)\n",
    "L"
   ]
  },
  {
   "cell_type": "code",
   "execution_count": 4,
   "metadata": {},
   "outputs": [
    {
     "data": {
      "text/plain": [
       "[2, 3, 5, 7, 11, 13, 17, 19]"
      ]
     },
     "execution_count": 4,
     "metadata": {},
     "output_type": "execute_result"
    }
   ],
   "source": [
    "# 리스트끼리 연결\n",
    "L + [13, 17, 19]"
   ]
  },
  {
   "cell_type": "code",
   "execution_count": 5,
   "metadata": {},
   "outputs": [
    {
     "data": {
      "text/plain": [
       "[1, 2, 3, 4, 5, 6]"
      ]
     },
     "execution_count": 5,
     "metadata": {},
     "output_type": "execute_result"
    }
   ],
   "source": [
    "# sort() 메서드는 리스트 자체의 정렬을 바꿉니다.\n",
    "L = [2, 5, 1, 6, 3, 4]\n",
    "L.sort()\n",
    "L"
   ]
  },
  {
   "cell_type": "markdown",
   "metadata": {},
   "source": [
    "이외에도 아주 많은 내장 메서드가 많이 있습니다. 자세한 내용은 파이썬 온라인 [문서](https://docs.python.org/ko/3.6/tutorial/datastructures.html)를 참고하세요.\n",
    "\n",
    "앞에서 하나의 데이터 타입으로 이루어진 경우를 보았는데 파이썬의 복합 타입의 강력한 기능 중 하나는 *어떤* 타입의 객체도 포함시킬 수 있다는 것입니다. 심지어 다른 복합 타입도 가능합니다. 예를 들어:"
   ]
  },
  {
   "cell_type": "code",
   "execution_count": 6,
   "metadata": {},
   "outputs": [],
   "source": [
    "L = [1, 'two', 3.14, [0, 3, 5]]"
   ]
  },
  {
   "cell_type": "markdown",
   "metadata": {},
   "source": [
    "이런 유연성은 파이썬의 동적 타입 시스템 덕분입니다. C 같은 정적 타입의 언어에서 이런 복합 타입을 만들려면 굉장히 복잡합니다!\n",
    "리스트는 다른 리스트를 원소로 가질 수 있습니다.\n",
    "이런 유연성은 파이썬 코드를 비교적 빠르고 쉽게 쓸 수 있도록 도와주는 핵심적인 요소입니다.\n",
    "\n",
    "지금까지 리스트 전체를 다루는 경우를 생각했습니다. 또 다른 핵심적인 기능은 각 원소를 접근하는 방법입니다.\n",
    "파이썬에서는 이를 *인덱싱* 또는 *슬라이싱*이라 하며 앞으로 살펴 보겠습니다."
   ]
  },
  {
   "cell_type": "markdown",
   "metadata": {},
   "source": [
    "### 리스트 인덱싱과 슬라이싱\n",
    "파이썬의 복합 타입에서 하나의 원소에 접근하기 위해서는 *인덱싱*을 사용하고 여러개의 원소를 선택하기 위해서는 *슬라이싱*을 사용합니다.\n",
    "잠시 후에 보게되겠지만 둘 다 대 괄호를 사용합니다.\n",
    "소수로 구성된 리스트를 만들어 보죠:"
   ]
  },
  {
   "cell_type": "code",
   "execution_count": 7,
   "metadata": {},
   "outputs": [],
   "source": [
    "L = [2, 3, 5, 7, 11]"
   ]
  },
  {
   "cell_type": "markdown",
   "metadata": {},
   "source": [
    "파이썬은 *0을 시작*되는 인덱싱을 사용하므로 첫 번쨰와 두 번째 원소를 선택하려면 다음과 같이 합니다:"
   ]
  },
  {
   "cell_type": "code",
   "execution_count": 8,
   "metadata": {},
   "outputs": [
    {
     "data": {
      "text/plain": [
       "2"
      ]
     },
     "execution_count": 8,
     "metadata": {},
     "output_type": "execute_result"
    }
   ],
   "source": [
    "L[0]"
   ]
  },
  {
   "cell_type": "code",
   "execution_count": 9,
   "metadata": {},
   "outputs": [
    {
     "data": {
      "text/plain": [
       "3"
      ]
     },
     "execution_count": 9,
     "metadata": {},
     "output_type": "execute_result"
    }
   ],
   "source": [
    "L[1]"
   ]
  },
  {
   "cell_type": "markdown",
   "metadata": {},
   "source": [
    "리스트 끝의 원소는 -1부터 시작하는 음수로 선택할 수 있습니다:"
   ]
  },
  {
   "cell_type": "code",
   "execution_count": 10,
   "metadata": {},
   "outputs": [
    {
     "data": {
      "text/plain": [
       "11"
      ]
     },
     "execution_count": 10,
     "metadata": {},
     "output_type": "execute_result"
    }
   ],
   "source": [
    "L[-1]"
   ]
  },
  {
   "cell_type": "code",
   "execution_count": 11,
   "metadata": {},
   "outputs": [
    {
     "data": {
      "text/plain": [
       "7"
      ]
     },
     "execution_count": 11,
     "metadata": {},
     "output_type": "execute_result"
    }
   ],
   "source": [
    "L[-2]"
   ]
  },
  {
   "cell_type": "markdown",
   "metadata": {},
   "source": [
    "인덱싱 법칙을 다음 그림에 나타내었습니다:"
   ]
  },
  {
   "cell_type": "markdown",
   "metadata": {},
   "source": [
    "![List Indexing Figure](fig/list-indexing.png)"
   ]
  },
  {
   "cell_type": "markdown",
   "metadata": {},
   "source": [
    "이 그림에서 리스트에 있는 값은 상자 안에 큰 숫자로 나타나 있고 리스트의 인덱스는 상자 위와 아래에 작은 숫자로 표시했습니다.\n",
    "인덱스 ``2`` 다음에 있는 값이 5이기 때문에 ``L[2]``는 5가 됩니다."
   ]
  },
  {
   "cell_type": "markdown",
   "metadata": {},
   "source": [
    "*인덱싱*이 리스트에 있는 한 개의 값을 추출하는 것을 의미하고 *슬라이싱*은 여러 개의 값을 접근하여 서브 리스트를 만듭니다.\n",
    "시작 인덱스(포함)와 종료 인덱스(미포함)를 콜론으로 연결하여 서브 리스트를 지정합니다.\n",
    "예를 들어 이 리스트의 처음 세 개의 원소를 가져오려면 다음과 같이 씁니다:"
   ]
  },
  {
   "cell_type": "code",
   "execution_count": 12,
   "metadata": {},
   "outputs": [
    {
     "data": {
      "text/plain": [
       "[2, 3, 5]"
      ]
     },
     "execution_count": 12,
     "metadata": {},
     "output_type": "execute_result"
    }
   ],
   "source": [
    "L[0:3]"
   ]
  },
  {
   "cell_type": "markdown",
   "metadata": {},
   "source": [
    "앞의 그림에서 ``0``과 ``3``이 놓인 위치를 확인해 보세요. 슬라이싱은 이 인덱스 사이의 값들을 가져옵니다.\n",
    "첫 번째 인덱스를 쓰지 않으면 ``0``으로 간주하므로 다음과 같이 써도 동일합니다:"
   ]
  },
  {
   "cell_type": "code",
   "execution_count": 13,
   "metadata": {},
   "outputs": [
    {
     "data": {
      "text/plain": [
       "[2, 3, 5]"
      ]
     },
     "execution_count": 13,
     "metadata": {},
     "output_type": "execute_result"
    }
   ],
   "source": [
    "L[:3]"
   ]
  },
  {
   "cell_type": "markdown",
   "metadata": {},
   "source": [
    "비슷하게 마지막 인덱스를 쓰지 않으면 리스트의 길이가 기본값이 됩니다.\n",
    "마지막 세 개의 원소는 다음과 같이 얻을 수 있습니다:"
   ]
  },
  {
   "cell_type": "code",
   "execution_count": 14,
   "metadata": {},
   "outputs": [
    {
     "data": {
      "text/plain": [
       "[5, 7, 11]"
      ]
     },
     "execution_count": 14,
     "metadata": {},
     "output_type": "execute_result"
    }
   ],
   "source": [
    "L[-3:]"
   ]
  },
  {
   "cell_type": "markdown",
   "metadata": {},
   "source": [
    "마지막으로 세 번째 숫자를 지정하여 건너 뛰기를 지정할 수 있습니다. 예를 들어 리스트에서 두 번째 원소마다 선택하려면 다음과 같이 씁니다:"
   ]
  },
  {
   "cell_type": "code",
   "execution_count": 15,
   "metadata": {},
   "outputs": [
    {
     "data": {
      "text/plain": [
       "[2, 5, 11]"
      ]
     },
     "execution_count": 15,
     "metadata": {},
     "output_type": "execute_result"
    }
   ],
   "source": [
    "L[::2]  # L[0:len(L):2]와 동일합니다"
   ]
  },
  {
   "cell_type": "markdown",
   "metadata": {},
   "source": [
    "음수로 건너 뛰기를 지정하면 뒤집은 리스트를 만드는데 유용합니다:"
   ]
  },
  {
   "cell_type": "code",
   "execution_count": 16,
   "metadata": {},
   "outputs": [
    {
     "data": {
      "text/plain": [
       "[11, 7, 5, 3, 2]"
      ]
     },
     "execution_count": 16,
     "metadata": {},
     "output_type": "execute_result"
    }
   ],
   "source": [
    "L[::-1]"
   ]
  },
  {
   "cell_type": "markdown",
   "metadata": {},
   "source": [
    "인덱싱과 슬라이싱은 원소를 접근하는 것은 물론 값을 지정하는데도 사용할 수 있습니다.\n",
    "사용 방법은 예상과 다르지 않습니다:"
   ]
  },
  {
   "cell_type": "code",
   "execution_count": 17,
   "metadata": {},
   "outputs": [
    {
     "name": "stdout",
     "output_type": "stream",
     "text": [
      "[100, 3, 5, 7, 11]\n"
     ]
    }
   ],
   "source": [
    "L[0] = 100\n",
    "print(L)"
   ]
  },
  {
   "cell_type": "code",
   "execution_count": 18,
   "metadata": {},
   "outputs": [
    {
     "name": "stdout",
     "output_type": "stream",
     "text": [
      "[100, 55, 56, 7, 11]\n"
     ]
    }
   ],
   "source": [
    "L[1:3] = [55, 56]\n",
    "print(L)"
   ]
  },
  {
   "cell_type": "markdown",
   "metadata": {},
   "source": [
    "이와 비슷한 슬라이싱 기법이 (나중에 간략히 소개할) 넘파이(NumPy)나 판다스(Pandas)같은 다른 데이터 과학 패키지들에서도 사용됩니다.\n",
    "\n",
    "지금까지 파이썬 리스트와 순서가 있는 복합 타입에서 어떻게 원소를 접근하는지 보았습니다. 이제 앞서 언급한 다른 세 가지 표준 복합 데이터 타입을 살펴 보겠습니다."
   ]
  },
  {
   "cell_type": "markdown",
   "metadata": {},
   "source": [
    "## 튜플\n",
    "튜플(Tuple)은 리스트와 여러가지 면에서 비슷하지만 대괄호 대신 소괄호를 사용하여 정의합니다:"
   ]
  },
  {
   "cell_type": "code",
   "execution_count": 19,
   "metadata": {},
   "outputs": [],
   "source": [
    "t = (1, 2, 3)"
   ]
  },
  {
   "cell_type": "markdown",
   "metadata": {},
   "source": [
    "튜플은 아무런 괄호 없이도 만들 수 있습니다:"
   ]
  },
  {
   "cell_type": "code",
   "execution_count": 20,
   "metadata": {},
   "outputs": [
    {
     "name": "stdout",
     "output_type": "stream",
     "text": [
      "(1, 2, 3)\n"
     ]
    }
   ],
   "source": [
    "t = 1, 2, 3\n",
    "print(t)"
   ]
  },
  {
   "cell_type": "markdown",
   "metadata": {},
   "source": [
    "앞서 소개한 리스트처럼 튜플은 길이를 가지고 있고 각 원소는 대괄호 인덱싱을 사용하여 선택할 수 있습니다:"
   ]
  },
  {
   "cell_type": "code",
   "execution_count": 21,
   "metadata": {},
   "outputs": [
    {
     "data": {
      "text/plain": [
       "3"
      ]
     },
     "execution_count": 21,
     "metadata": {},
     "output_type": "execute_result"
    }
   ],
   "source": [
    "len(t)"
   ]
  },
  {
   "cell_type": "code",
   "execution_count": 22,
   "metadata": {},
   "outputs": [
    {
     "data": {
      "text/plain": [
       "1"
      ]
     },
     "execution_count": 22,
     "metadata": {},
     "output_type": "execute_result"
    }
   ],
   "source": [
    "t[0]"
   ]
  },
  {
   "cell_type": "markdown",
   "metadata": {},
   "source": [
    "튜플과 리스트의 가장 주요한 차이점은 튜플이 *수정 불가능*한 타입이라는 것입니다. 튜플은 한 번 만들어지면 크기와 내용을 바꿀 수 없습니다:"
   ]
  },
  {
   "cell_type": "code",
   "execution_count": 23,
   "metadata": {},
   "outputs": [
    {
     "ename": "TypeError",
     "evalue": "'tuple' object does not support item assignment",
     "output_type": "error",
     "traceback": [
      "\u001b[0;31m\u001b[0m",
      "\u001b[0;31mTypeError\u001b[0mTraceback (most recent call last)",
      "\u001b[0;32m<ipython-input-23-87b0f225887f>\u001b[0m in \u001b[0;36m<module>\u001b[0;34m\u001b[0m\n\u001b[0;32m----> 1\u001b[0;31m \u001b[0mt\u001b[0m\u001b[0;34m[\u001b[0m\u001b[0;36m1\u001b[0m\u001b[0;34m]\u001b[0m \u001b[0;34m=\u001b[0m \u001b[0;36m4\u001b[0m\u001b[0;34m\u001b[0m\u001b[0;34m\u001b[0m\u001b[0m\n\u001b[0m",
      "\u001b[0;31mTypeError\u001b[0m: 'tuple' object does not support item assignment"
     ]
    }
   ],
   "source": [
    "t[1] = 4"
   ]
  },
  {
   "cell_type": "code",
   "execution_count": 24,
   "metadata": {},
   "outputs": [
    {
     "ename": "AttributeError",
     "evalue": "'tuple' object has no attribute 'append'",
     "output_type": "error",
     "traceback": [
      "\u001b[0;31m\u001b[0m",
      "\u001b[0;31mAttributeError\u001b[0mTraceback (most recent call last)",
      "\u001b[0;32m<ipython-input-24-ada7ed8a579e>\u001b[0m in \u001b[0;36m<module>\u001b[0;34m\u001b[0m\n\u001b[0;32m----> 1\u001b[0;31m \u001b[0mt\u001b[0m\u001b[0;34m.\u001b[0m\u001b[0mappend\u001b[0m\u001b[0;34m(\u001b[0m\u001b[0;36m4\u001b[0m\u001b[0;34m)\u001b[0m\u001b[0;34m\u001b[0m\u001b[0;34m\u001b[0m\u001b[0m\n\u001b[0m",
      "\u001b[0;31mAttributeError\u001b[0m: 'tuple' object has no attribute 'append'"
     ]
    }
   ],
   "source": [
    "t.append(4)"
   ]
  },
  {
   "cell_type": "markdown",
   "metadata": {},
   "source": [
    "튜플은 파이썬 프로그램에서 특히 여러 개의 값을 반환하는 함수에서 자주 사용합니다.\n",
    "예를 들어 부동소수 객체의 ``as_integer_ratio()`` 메서드는 분자와 분모를 반환합니다. 이 두 개의 값은 튜플의 형태로 전달됩니다:"
   ]
  },
  {
   "cell_type": "code",
   "execution_count": 25,
   "metadata": {},
   "outputs": [
    {
     "data": {
      "text/plain": [
       "(1, 8)"
      ]
     },
     "execution_count": 25,
     "metadata": {},
     "output_type": "execute_result"
    }
   ],
   "source": [
    "x = 0.125\n",
    "x.as_integer_ratio()"
   ]
  },
  {
   "cell_type": "markdown",
   "metadata": {},
   "source": [
    "복수개의 반환값은 다음과 같이 개별적으로 할당할 수 있습니다:"
   ]
  },
  {
   "cell_type": "code",
   "execution_count": 26,
   "metadata": {},
   "outputs": [
    {
     "name": "stdout",
     "output_type": "stream",
     "text": [
      "0.125\n"
     ]
    }
   ],
   "source": [
    "numerator, denominator = x.as_integer_ratio()\n",
    "print(numerator / denominator)"
   ]
  },
  {
   "cell_type": "markdown",
   "metadata": {},
   "source": [
    "리스트를 소개하면서 말한 인덱싱과 슬라이싱이 다른 메서들과 동일하게 튜플에도 적용됩니다.\n",
    "전체 메서드 리스트는 온라인 [파이썬 문서](https://docs.python.org/ko/3/tutorial/datastructures.html)를 참고하세요."
   ]
  },
  {
   "cell_type": "markdown",
   "metadata": {},
   "source": [
    "## 딕셔너리\n",
    "딕셔너리(Dictionary)는 파이썬 내부 구현의 기본 구성을 만드는 아주 유연한 키, 값 매핑입니다.\n",
    "중괄호 안에 ``키:값`` 형태로 콤마로 구분된 리스트를 나열하여 만듭니다:"
   ]
  },
  {
   "cell_type": "code",
   "execution_count": 27,
   "metadata": {},
   "outputs": [
    {
     "data": {
      "text/plain": [
       "{'one': 1, 'two': 2, 'three': 3}"
      ]
     },
     "execution_count": 27,
     "metadata": {},
     "output_type": "execute_result"
    }
   ],
   "source": [
    "numbers = {'one':1, 'two':2, 'three':3}\n",
    "numbers"
   ]
  },
  {
   "cell_type": "markdown",
   "metadata": {},
   "source": [
    "리스트와 튜플에서 사용했던 인덱싱 방식을 사용해 아이템을 선택하고 값을 저장할 수 있습니다. 다만 여기서는 인덱스가 0부터 시작하는 숫자가 아니고 딕셔너리에 있는 키가 됩니다:"
   ]
  },
  {
   "cell_type": "code",
   "execution_count": 28,
   "metadata": {},
   "outputs": [
    {
     "data": {
      "text/plain": [
       "2"
      ]
     },
     "execution_count": 28,
     "metadata": {},
     "output_type": "execute_result"
    }
   ],
   "source": [
    "# 키를 통해 값을 얻어 옵니다.\n",
    "numbers['two']"
   ]
  },
  {
   "cell_type": "markdown",
   "metadata": {},
   "source": [
    "새로운 아이템을 저장하는 것도 동일한 인덱스를 사용합니다:"
   ]
  },
  {
   "cell_type": "code",
   "execution_count": 29,
   "metadata": {},
   "outputs": [
    {
     "name": "stdout",
     "output_type": "stream",
     "text": [
      "{'one': 1, 'two': 2, 'three': 3, 'ninety': 90}\n"
     ]
    }
   ],
   "source": [
    "# 새로운 키:값 쌍을 추가합니다.\n",
    "numbers['ninety'] = 90\n",
    "print(numbers)"
   ]
  },
  {
   "cell_type": "markdown",
   "metadata": {},
   "source": [
    "딕셔너리는 설계 자체가 입력 파라미터에 대한 어떤 순서도 기억하지 않도록 되어 있습니다.\n",
    "순서가 없기 때문에 매우 효율적으로 딕셔너리가 구현되어 있어서 딕셔너린의 크기에 관계없이 임의의 원소에 접근하는 속도가 매우 빠릅니다(이에 대해 궁금하다면 *해시 테이블* 개념을 찾아보세요). 딕셔너리의 전체 메서드는 [파이썬 문서](https://docs.python.org/ko/3.6/library/stdtypes.html)를 참고하세요."
   ]
  },
  {
   "cell_type": "markdown",
   "metadata": {},
   "source": [
    "## 집합\n",
    "네 번째 기본 복합 타입은 순서없는 고유한 아이템을 담는 집합(set)입니다.\n",
    "리스트와 튜플과 비슷하게 정의하지만 딕셔너리처럼 중괄호를 사용합니다:"
   ]
  },
  {
   "cell_type": "code",
   "execution_count": 30,
   "metadata": {},
   "outputs": [],
   "source": [
    "primes = {2, 3, 5, 7}\n",
    "odds = {1, 3, 5, 7, 9}"
   ]
  },
  {
   "cell_type": "markdown",
   "metadata": {},
   "source": [
    "수학의 집합과 친숙하다면 합집합, 교집합, 차집합, 대칭차집합 등을 알고 있을 것입니다.\n",
    "파이썬의 집합은 기본적으로 이 모든 연산을 메서드나 연산자로 제공합니다.\n",
    "각각에 대해 동일한 두 가지 방식을 설명하겠습니다:"
   ]
  },
  {
   "cell_type": "code",
   "execution_count": 31,
   "metadata": {},
   "outputs": [
    {
     "data": {
      "text/plain": [
       "{1, 2, 3, 5, 7, 9}"
      ]
     },
     "execution_count": 31,
     "metadata": {},
     "output_type": "execute_result"
    }
   ],
   "source": [
    "# 합집합: 둘 중 하나에 있는 아이템\n",
    "primes | odds      # 연산자로\n",
    "primes.union(odds) # 메서드로"
   ]
  },
  {
   "cell_type": "code",
   "execution_count": 32,
   "metadata": {},
   "outputs": [
    {
     "data": {
      "text/plain": [
       "{3, 5, 7}"
      ]
     },
     "execution_count": 32,
     "metadata": {},
     "output_type": "execute_result"
    }
   ],
   "source": [
    "# 교집합: 양쪽에 모두 있는 아이템\n",
    "primes & odds             # 연산자로\n",
    "primes.intersection(odds) # 메서드로"
   ]
  },
  {
   "cell_type": "code",
   "execution_count": 33,
   "metadata": {},
   "outputs": [
    {
     "data": {
      "text/plain": [
       "{2}"
      ]
     },
     "execution_count": 33,
     "metadata": {},
     "output_type": "execute_result"
    }
   ],
   "source": [
    "# 차집합: primes에 있지만 odds에 없는 아이템\n",
    "primes - odds           # 연산자로\n",
    "primes.difference(odds) # 메서드로"
   ]
  },
  {
   "cell_type": "code",
   "execution_count": 34,
   "metadata": {},
   "outputs": [
    {
     "data": {
      "text/plain": [
       "{1, 2, 9}"
      ]
     },
     "execution_count": 34,
     "metadata": {},
     "output_type": "execute_result"
    }
   ],
   "source": [
    "# 대칭차집합: 한 쪽에만 있는 아이템\n",
    "primes ^ odds                     # 연산자로\n",
    "primes.symmetric_difference(odds) # 메서드로"
   ]
  },
  {
   "cell_type": "markdown",
   "metadata": {},
   "source": [
    "더 많은 집합 메서드와 연산자가 있습니다. 역시 파이썬 [온라인 문서](https://docs.python.org/ko/3.6/library/stdtypes.html)를 참고하세요."
   ]
  },
  {
   "cell_type": "markdown",
   "metadata": {},
   "source": [
    "## 전문 데이터 구조\n",
    "파이썬에는 몇몇 유용한 다른 데이터 구조를 가지고 있습니다. 이들은 기본 ``collections`` 모듈 아래에서 찾을 수 있습니다.\n",
    "컬렉션 모듈에 관한 전체 문서는 [파이썬 온라인 문서](https://docs.python.org/ko/3/library/collections.html)를 참고하세요. 여기에서 다양한 종류의 객체를 둘러 볼 수 있습니다.\n",
    "\n",
    "특히 저는 다음이 이따금 유용했습니다:\n",
    "\n",
    "- ``collections.namedtuple``: 튜플과 같지만 값에 이름이 있습니다\n",
    "- ``collections.defaultdict``: 딕셔너리와 같지만 키를 지정하지 않으면 사전에 지정한 기본 키가 할당됩니다.\n",
    "- ``collections.OrderedDict``: 딕셔너리와 같지만 키의 순서가 유지됩니다\n",
    "\n",
    "표준 컬렉션 타입들을 보았다면 이런 확장된 기능을 사용하는 것도 잘 이해할 수 있습니다. [온라인 문서](https://docs.python.org/ko/3/library/collections.html)를 읽어 보는 것이 가장 좋습니다."
   ]
  },
  {
   "cell_type": "markdown",
   "metadata": {},
   "source": [
    "< [간단한 기본 데이터 타입](05-간단한 기본 데이터 타입.ipynb) | [목차](목차.ipynb) | [제어문](07-제어문.ipynb) >"
   ]
  }
 ],
 "metadata": {
  "anaconda-cloud": {},
  "kernelspec": {
   "display_name": "TensorFlow 2.3 on Python 3.6 (CUDA 10.1)",
   "language": "python",
   "name": "python3"
  },
  "language_info": {
   "codemirror_mode": {
    "name": "ipython",
    "version": 3
   },
   "file_extension": ".py",
   "mimetype": "text/x-python",
   "name": "python",
   "nbconvert_exporter": "python",
   "pygments_lexer": "ipython3",
   "version": "3.6.9"
  }
 },
 "nbformat": 4,
 "nbformat_minor": 1
}
