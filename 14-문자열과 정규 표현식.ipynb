{
 "cells": [
  {
   "cell_type": "markdown",
   "metadata": {},
   "source": [
    "*이 노트북은 제이크 반더플라스(Jake VanderPlas)의 [A Whirlwind Tour of Python](http://www.oreilly.com/programming/free/a-whirlwind-tour-of-python.csp)(OReilly Media, 2016)를 기반으로 만들어졌습니다. 이 내용은 [CC0](https://github.com/jakevdp/WhirlwindTourOfPython/blob/master/LICENSE) 라이센스를 따릅니다. 전체 노트북의 목록은 https://github.com/rickiepark/WhirlwindTourOfPython 에서 볼 수 있습니다.*"
   ]
  },
  {
   "cell_type": "markdown",
   "metadata": {},
   "source": [
    "<!--NAVIGATION-->\n",
    "< [모듈과 패키지](13-모듈과 패키지.ipynb) | [목차](목차.ipynb) | [데이터 과학 도구 소개](15-데이터 과학 도구 소개.ipynb) >"
   ]
  },
  {
   "cell_type": "markdown",
   "metadata": {},
   "source": [
    "# 문자열과 정규 표현식"
   ]
  },
  {
   "cell_type": "markdown",
   "metadata": {},
   "source": [
    "파이썬 언어가 뛰어난 한 분야가 문자열 처리입니다. 이 절은 파이썬의 내장 문자열 함수와 포맷팅 연산을 다룹니다. 그 다음에 아주 중요한 *정규 표현식*을 소개하겠습니다. 문자열 조작 패턴은 데이터 과학 작업에 자주 등장하고 파이썬의 큰 장점 중 하나입니다.\n",
    "\n",
    "파이썬에서 문자열은 홑따옴표와 겹따옴표를 사용해 정의할 수 있습니다(두 가지 모두 동일합니다):"
   ]
  },
  {
   "cell_type": "code",
   "execution_count": 1,
   "metadata": {},
   "outputs": [
    {
     "data": {
      "text/plain": [
       "True"
      ]
     },
     "execution_count": 1,
     "metadata": {},
     "output_type": "execute_result"
    }
   ],
   "source": [
    "x = 'a string'\n",
    "y = \"a string\"\n",
    "x == y"
   ]
  },
  {
   "cell_type": "markdown",
   "metadata": {},
   "source": [
    "세 따옴표로 여러 줄의 문자열을 정의할 수도 있습니다:"
   ]
  },
  {
   "cell_type": "code",
   "execution_count": 2,
   "metadata": {},
   "outputs": [],
   "source": [
    "multiline = \"\"\"\n",
    "one\n",
    "two\n",
    "three\n",
    "\"\"\""
   ]
  },
  {
   "cell_type": "markdown",
   "metadata": {},
   "source": [
    "파이썬의 문자열 처리 도구를 빠르게 살펴 보겠습니다."
   ]
  },
  {
   "cell_type": "markdown",
   "metadata": {},
   "source": [
    "## 파이썬의 간단한 문자열 처리 기능\n",
    "\n",
    "기본적인 문자열 처리를 하는데 파이썬의 내장 문자열 메서드는 매우 편리합니다.\n",
    "C나 다른 저수준 언어를 사용한 경험이 있다면 파이썬의 메서드의 단순함이 아주 신선하게 느껴질 것입니다.\n",
    "파이썬의 문자열 타입과 몇 개의 메서드를 앞서 소개했습니다. 여기서 조금 더 자세히 살펴 보겠습니다."
   ]
  },
  {
   "cell_type": "markdown",
   "metadata": {},
   "source": [
    "### 문자열 포맷팅: 대소문자 조정\n",
    "파이썬에서는 문자열의 대소문자를 조정하는 것이 아주 쉽습니다. 여기에서는 ``upper()``, ``lower()``, ``capitalize()``, ``title()``과 ``swapcase()`` 메서드를 살펴 보겠습니다. 예제를 위해 다음과 같이 좀 이상한 문자열을 사용합니다:"
   ]
  },
  {
   "cell_type": "code",
   "execution_count": 3,
   "metadata": {},
   "outputs": [],
   "source": [
    "fox = \"tHe qUICk bROWn fOx.\""
   ]
  },
  {
   "cell_type": "markdown",
   "metadata": {},
   "source": [
    "전체 문자열을 대문자나 소문자로 바꾸려면 ``upper()``나 ``lower()`` 메서드를 사용합니다:"
   ]
  },
  {
   "cell_type": "code",
   "execution_count": 4,
   "metadata": {},
   "outputs": [
    {
     "data": {
      "text/plain": [
       "'THE QUICK BROWN FOX.'"
      ]
     },
     "execution_count": 4,
     "metadata": {},
     "output_type": "execute_result"
    }
   ],
   "source": [
    "fox.upper()"
   ]
  },
  {
   "cell_type": "code",
   "execution_count": 5,
   "metadata": {},
   "outputs": [
    {
     "data": {
      "text/plain": [
       "'the quick brown fox.'"
      ]
     },
     "execution_count": 5,
     "metadata": {},
     "output_type": "execute_result"
    }
   ],
   "source": [
    "fox.lower()"
   ]
  },
  {
   "cell_type": "markdown",
   "metadata": {},
   "source": [
    "일반적으로 포맷팅이 필요한 때는 각 단어의 첫 문자를 대문자로 바꾸거나 각 문장의 첫 글자를 대문자로 바꿀 때입니다.\n",
    "``title()``이나 ``capitalize()`` 메서드를 사용하면 됩니다:"
   ]
  },
  {
   "cell_type": "code",
   "execution_count": 6,
   "metadata": {},
   "outputs": [
    {
     "data": {
      "text/plain": [
       "'The Quick Brown Fox.'"
      ]
     },
     "execution_count": 6,
     "metadata": {},
     "output_type": "execute_result"
    }
   ],
   "source": [
    "fox.title()"
   ]
  },
  {
   "cell_type": "code",
   "execution_count": 7,
   "metadata": {},
   "outputs": [
    {
     "data": {
      "text/plain": [
       "'The quick brown fox.'"
      ]
     },
     "execution_count": 7,
     "metadata": {},
     "output_type": "execute_result"
    }
   ],
   "source": [
    "fox.capitalize()"
   ]
  },
  {
   "cell_type": "markdown",
   "metadata": {},
   "source": [
    "대소문자를 바꾸어야 할 때는 ``swapcase()`` 메서드를 사용합니다:"
   ]
  },
  {
   "cell_type": "code",
   "execution_count": 8,
   "metadata": {},
   "outputs": [
    {
     "data": {
      "text/plain": [
       "'ThE QuicK BrowN FoX.'"
      ]
     },
     "execution_count": 8,
     "metadata": {},
     "output_type": "execute_result"
    }
   ],
   "source": [
    "fox.swapcase()"
   ]
  },
  {
   "cell_type": "markdown",
   "metadata": {},
   "source": [
    "### 문자열 포맷팅: 공백 추가 또는 삭제\n",
    "자주 사용하는 또 다른 경우는 문자열 시작과 끝에서 공백(또는 다른 문자)을 제거할 때입니다.\n",
    "문자를 제거하는 기본 메서드는 문자열의 시작과 끝에서 공백을 삭제하는 ``strip()`` 메서드입니다:"
   ]
  },
  {
   "cell_type": "code",
   "execution_count": 9,
   "metadata": {},
   "outputs": [],
   "source": [
    "line = '         this is the content         '"
   ]
  },
  {
   "cell_type": "code",
   "execution_count": 10,
   "metadata": {},
   "outputs": [
    {
     "data": {
      "text/plain": [
       "'this is the content'"
      ]
     },
     "execution_count": 10,
     "metadata": {},
     "output_type": "execute_result"
    }
   ],
   "source": [
    "line.strip()"
   ]
  },
  {
   "cell_type": "markdown",
   "metadata": {},
   "source": [
    "오른쪽과 왼쪽의 공백을 삭제하려면 ``rstrip()`` 또는 ``lstrip()``를 사용합니다:"
   ]
  },
  {
   "cell_type": "code",
   "execution_count": 11,
   "metadata": {},
   "outputs": [
    {
     "data": {
      "text/plain": [
       "'         this is the content'"
      ]
     },
     "execution_count": 11,
     "metadata": {},
     "output_type": "execute_result"
    }
   ],
   "source": [
    "line.rstrip()"
   ]
  },
  {
   "cell_type": "code",
   "execution_count": 12,
   "metadata": {},
   "outputs": [
    {
     "data": {
      "text/plain": [
       "'this is the content         '"
      ]
     },
     "execution_count": 12,
     "metadata": {},
     "output_type": "execute_result"
    }
   ],
   "source": [
    "line.lstrip()"
   ]
  },
  {
   "cell_type": "markdown",
   "metadata": {},
   "source": [
    "공백 대신 다른 문자를 삭제하려면 원하는 문자를 ``strip()`` 메서드에 전달하면 됩니다:"
   ]
  },
  {
   "cell_type": "code",
   "execution_count": 13,
   "metadata": {},
   "outputs": [],
   "source": [
    "num = \"000000000000435\""
   ]
  },
  {
   "cell_type": "code",
   "execution_count": 14,
   "metadata": {},
   "outputs": [
    {
     "data": {
      "text/plain": [
       "'435'"
      ]
     },
     "execution_count": 14,
     "metadata": {},
     "output_type": "execute_result"
    }
   ],
   "source": [
    "num.strip('0')"
   ]
  },
  {
   "cell_type": "markdown",
   "metadata": {},
   "source": [
    "이 연산과 반대로 공백이나 다른 문자를 추가하려면 ``center()``, ``ljust()``, 그리고 ``rjust()`` 메서드를 사용합니다.\n",
    "\n",
    "예를 들어 ``center()`` 메서드를 사용하여 문자열을 중앙에 두고 좌우에 지정한 길이에 맞게 공백을 넣을 수 있습니다:"
   ]
  },
  {
   "cell_type": "code",
   "execution_count": 15,
   "metadata": {},
   "outputs": [],
   "source": [
    "line = \"this is the content\""
   ]
  },
  {
   "cell_type": "code",
   "execution_count": 16,
   "metadata": {},
   "outputs": [
    {
     "data": {
      "text/plain": [
       "'     this is the content      '"
      ]
     },
     "execution_count": 16,
     "metadata": {},
     "output_type": "execute_result"
    }
   ],
   "source": [
    "line.center(30)"
   ]
  },
  {
   "cell_type": "markdown",
   "metadata": {},
   "source": [
    "비슷하게 ``ljust()``와 ``rjust()``는 주어진 길이에 맞게 왼쪽과 오른쪽으로 정렬합니다:"
   ]
  },
  {
   "cell_type": "code",
   "execution_count": 17,
   "metadata": {},
   "outputs": [
    {
     "data": {
      "text/plain": [
       "'this is the content           '"
      ]
     },
     "execution_count": 17,
     "metadata": {},
     "output_type": "execute_result"
    }
   ],
   "source": [
    "line.ljust(30)"
   ]
  },
  {
   "cell_type": "code",
   "execution_count": 18,
   "metadata": {},
   "outputs": [
    {
     "data": {
      "text/plain": [
       "'           this is the content'"
      ]
     },
     "execution_count": 18,
     "metadata": {},
     "output_type": "execute_result"
    }
   ],
   "source": [
    "line.rjust(30)"
   ]
  },
  {
   "cell_type": "markdown",
   "metadata": {},
   "source": [
    "이 메서드들은 공백을 채우는데 사용할 문자를 추가로 받을 수 있습니다. 예들 들어:"
   ]
  },
  {
   "cell_type": "code",
   "execution_count": 19,
   "metadata": {},
   "outputs": [
    {
     "data": {
      "text/plain": [
       "'0000000435'"
      ]
     },
     "execution_count": 19,
     "metadata": {},
     "output_type": "execute_result"
    }
   ],
   "source": [
    "'435'.rjust(10, '0')"
   ]
  },
  {
   "cell_type": "markdown",
   "metadata": {},
   "source": [
    "0으로 채우는 작업이 빈번하기 때문에 파이썬은 0으로 문자열 오른쪽을 채우는 ``zfill()`` 메서드도 제공합니다:"
   ]
  },
  {
   "cell_type": "code",
   "execution_count": 20,
   "metadata": {},
   "outputs": [
    {
     "data": {
      "text/plain": [
       "'0000000435'"
      ]
     },
     "execution_count": 20,
     "metadata": {},
     "output_type": "execute_result"
    }
   ],
   "source": [
    "'435'.zfill(10)"
   ]
  },
  {
   "cell_type": "markdown",
   "metadata": {},
   "source": [
    "### 부분 문자열 찾고 바꾸기\n",
    "\n",
    "문자열에서 특정 문자를 찾고 싶다면 내장 메서드 ``find()``/``rfind()``, ``index()``/``rindex()``, 그리고 ``replace()``를 사용합니다.\n",
    "\n",
    "``find()``와 ``index()``는 문자열에서 문자나 부분 문자열의 첫 번째 위치를 찾고 부분 문자열의 인덱스를 반환하는 점에서 매우 비슷합니다:"
   ]
  },
  {
   "cell_type": "code",
   "execution_count": 21,
   "metadata": {},
   "outputs": [],
   "source": [
    "line = 'the quick brown fox jumped over a lazy dog'"
   ]
  },
  {
   "cell_type": "code",
   "execution_count": 22,
   "metadata": {},
   "outputs": [
    {
     "data": {
      "text/plain": [
       "16"
      ]
     },
     "execution_count": 22,
     "metadata": {},
     "output_type": "execute_result"
    }
   ],
   "source": [
    "line.find('fox')"
   ]
  },
  {
   "cell_type": "code",
   "execution_count": 23,
   "metadata": {},
   "outputs": [
    {
     "data": {
      "text/plain": [
       "16"
      ]
     },
     "execution_count": 23,
     "metadata": {},
     "output_type": "execute_result"
    }
   ],
   "source": [
    "line.index('fox')"
   ]
  },
  {
   "cell_type": "markdown",
   "metadata": {},
   "source": [
    "``find()``와 ``index()``의 유일한 차이는 검색 문자열이 발견되지 않았을 때 처리 방식입니다. ``find()``는 -1을 반환하고 ``index()``는 ``ValueError`` 예외를 발생시킵니다:"
   ]
  },
  {
   "cell_type": "code",
   "execution_count": 24,
   "metadata": {},
   "outputs": [
    {
     "data": {
      "text/plain": [
       "-1"
      ]
     },
     "execution_count": 24,
     "metadata": {},
     "output_type": "execute_result"
    }
   ],
   "source": [
    "line.find('bear')"
   ]
  },
  {
   "cell_type": "code",
   "execution_count": 25,
   "metadata": {},
   "outputs": [
    {
     "ename": "ValueError",
     "evalue": "substring not found",
     "output_type": "error",
     "traceback": [
      "\u001b[0;31m\u001b[0m",
      "\u001b[0;31mValueError\u001b[0mTraceback (most recent call last)",
      "\u001b[0;32m<ipython-input-25-adf599eb4c79>\u001b[0m in \u001b[0;36m<module>\u001b[0;34m\u001b[0m\n\u001b[0;32m----> 1\u001b[0;31m \u001b[0mline\u001b[0m\u001b[0;34m.\u001b[0m\u001b[0mindex\u001b[0m\u001b[0;34m(\u001b[0m\u001b[0;34m'bear'\u001b[0m\u001b[0;34m)\u001b[0m\u001b[0;34m\u001b[0m\u001b[0;34m\u001b[0m\u001b[0m\n\u001b[0m",
      "\u001b[0;31mValueError\u001b[0m: substring not found"
     ]
    }
   ],
   "source": [
    "line.index('bear')"
   ]
  },
  {
   "cell_type": "markdown",
   "metadata": {},
   "source": [
    "``rfind()``와 ``rindex()``도 문자열의 시작이 아니라 끝에서 부터 찾는 다는 것을 제외하고는 비슷합니다:"
   ]
  },
  {
   "cell_type": "code",
   "execution_count": 26,
   "metadata": {},
   "outputs": [
    {
     "data": {
      "text/plain": [
       "35"
      ]
     },
     "execution_count": 26,
     "metadata": {},
     "output_type": "execute_result"
    }
   ],
   "source": [
    "line.rfind('a')"
   ]
  },
  {
   "cell_type": "markdown",
   "metadata": {},
   "source": [
    "문자열의 시작과 끝의 부분 문자열을 체크하는 경우를 위해 파이썬에는 ``startswith()``와 ``endswith()`` 메서드가 있습니다:"
   ]
  },
  {
   "cell_type": "code",
   "execution_count": 27,
   "metadata": {},
   "outputs": [
    {
     "data": {
      "text/plain": [
       "True"
      ]
     },
     "execution_count": 27,
     "metadata": {},
     "output_type": "execute_result"
    }
   ],
   "source": [
    "line.endswith('dog')"
   ]
  },
  {
   "cell_type": "code",
   "execution_count": 28,
   "metadata": {},
   "outputs": [
    {
     "data": {
      "text/plain": [
       "False"
      ]
     },
     "execution_count": 28,
     "metadata": {},
     "output_type": "execute_result"
    }
   ],
   "source": [
    "line.startswith('fox')"
   ]
  },
  {
   "cell_type": "markdown",
   "metadata": {},
   "source": [
    "한 걸음 더 나아가 새로운 문자열로 부분 문자열을 바꾸려면 ``replace()`` 메서드를 사용합니다.\n",
    "``'brown'``을 ``'red'``로 바꾸어 보겠습니다:"
   ]
  },
  {
   "cell_type": "code",
   "execution_count": 29,
   "metadata": {},
   "outputs": [
    {
     "data": {
      "text/plain": [
       "'the quick red fox jumped over a lazy dog'"
      ]
     },
     "execution_count": 29,
     "metadata": {},
     "output_type": "execute_result"
    }
   ],
   "source": [
    "line.replace('brown', 'red')"
   ]
  },
  {
   "cell_type": "markdown",
   "metadata": {},
   "source": [
    "``replace()`` 함수는 새로운 문자열을 반환하고 발견되는 모든 문자열을 바꿉니다:"
   ]
  },
  {
   "cell_type": "code",
   "execution_count": 30,
   "metadata": {},
   "outputs": [
    {
     "data": {
      "text/plain": [
       "'the quick br--wn f--x jumped --ver a lazy d--g'"
      ]
     },
     "execution_count": 30,
     "metadata": {},
     "output_type": "execute_result"
    }
   ],
   "source": [
    "line.replace('o', '--')"
   ]
  },
  {
   "cell_type": "markdown",
   "metadata": {},
   "source": [
    "``replace()``보다 더 유연한 기능을 원하면 [정규 표현식을 사용한 유연한 패턴 매칭](#정규-표현식을-사용한-유연한-패턴-매칭)에서 정규 표현식에 대해 알아 보세요."
   ]
  },
  {
   "cell_type": "markdown",
   "metadata": {},
   "source": [
    "### 문자열 분리와 분할\n",
    "\n",
    "부분 문자열을 찾아 그 위치에서 문자열을 나누고 싶다면 ``partition()``이나 ``split()`` 메서드를 사용할 수 있습니다. 둘 다 부분 문자열의 시퀀스를 반환합니다.\n",
    "\n",
    "``partition()`` 메서드는 세 개로 이루어진 튜플을 반환합니다. 분할 위치 이전의 부분 문자열과 분할 문자열, 그리고 그 이후의 부분 문자열입니다:"
   ]
  },
  {
   "cell_type": "code",
   "execution_count": 31,
   "metadata": {},
   "outputs": [
    {
     "data": {
      "text/plain": [
       "('the quick brown ', 'fox', ' jumped over a lazy dog')"
      ]
     },
     "execution_count": 31,
     "metadata": {},
     "output_type": "execute_result"
    }
   ],
   "source": [
    "line.partition('fox')"
   ]
  },
  {
   "cell_type": "markdown",
   "metadata": {},
   "source": [
    "``rpartition()`` 메서드는 문자열의 오른쪽에서부터 찾는다는 것을 제외하면 비슷합니다.\n",
    "\n",
    "``split()`` 메서드는 더 유용합니다. 모든 분할 위치를 찾고 그 사이의 부분 문자열을 반환합니다.\n",
    "기본값은 공백 문자를 기준으로 분할하고 문자열에 있는 단어의 리스트를 반환합니다:"
   ]
  },
  {
   "cell_type": "code",
   "execution_count": 32,
   "metadata": {},
   "outputs": [
    {
     "data": {
      "text/plain": [
       "['the', 'quick', 'brown', 'fox', 'jumped', 'over', 'a', 'lazy', 'dog']"
      ]
     },
     "execution_count": 32,
     "metadata": {},
     "output_type": "execute_result"
    }
   ],
   "source": [
    "line.split()"
   ]
  },
  {
   "cell_type": "markdown",
   "metadata": {},
   "source": [
    "유사한 메서드는 ``splitlines()``로 줄바꿈 문자열을 기준으로 분할합니다. 17세기 시인 마쓰오 바쇼(Matsuo Bashō)로 유명한 하이쿠(Haiku)에 적용해 보겠습니다:"
   ]
  },
  {
   "cell_type": "code",
   "execution_count": 33,
   "metadata": {},
   "outputs": [],
   "source": [
    "haiku = \"\"\"matsushima-ya\n",
    "aah matsushima-ya\n",
    "matsushima-ya\"\"\""
   ]
  },
  {
   "cell_type": "code",
   "execution_count": 34,
   "metadata": {},
   "outputs": [
    {
     "data": {
      "text/plain": [
       "['matsushima-ya', 'aah matsushima-ya', 'matsushima-ya']"
      ]
     },
     "execution_count": 34,
     "metadata": {},
     "output_type": "execute_result"
    }
   ],
   "source": [
    "haiku.splitlines()"
   ]
  },
  {
   "cell_type": "markdown",
   "metadata": {},
   "source": [
    "``split()``를 반대로 하고 싶다면 분할 문자와 반복 객체로 부터 문자열을 만들어 반환하는 ``join()`` 메서드를 사용합니다:"
   ]
  },
  {
   "cell_type": "code",
   "execution_count": 35,
   "metadata": {},
   "outputs": [
    {
     "data": {
      "text/plain": [
       "'1--2--3'"
      ]
     },
     "execution_count": 35,
     "metadata": {},
     "output_type": "execute_result"
    }
   ],
   "source": [
    "'--'.join(['1', '2', '3'])"
   ]
  },
  {
   "cell_type": "markdown",
   "metadata": {},
   "source": [
    "이전에 분할했던 라인들을 ``\"\\n\"``(줄바꿈) 문자로 합쳐서 입력을 복원하는 것이 흔한 패턴입니다:"
   ]
  },
  {
   "cell_type": "code",
   "execution_count": 36,
   "metadata": {},
   "outputs": [
    {
     "name": "stdout",
     "output_type": "stream",
     "text": [
      "matsushima-ya\n",
      "aah matsushima-ya\n",
      "matsushima-ya\n"
     ]
    }
   ],
   "source": [
    "print(\"\\n\".join(['matsushima-ya', 'aah matsushima-ya', 'matsushima-ya']))"
   ]
  },
  {
   "cell_type": "markdown",
   "metadata": {},
   "source": [
    "## 포맷 문자열\n",
    "\n",
    "앞선 메서드에서 문자열에서 값을 추출하는 것과 원하는 형태로 문자열을 조작하는 방법을 배웠습니다.\n",
    "문자열 메서드의 다른 사용법은 다른 타입의 값을 문자열로 *표현*하는 것입니다.\n",
    "물론 문자열 표현은 ``str()`` 함수를 사용하여 만들 수 있습니다. 예를 들어:"
   ]
  },
  {
   "cell_type": "code",
   "execution_count": 37,
   "metadata": {},
   "outputs": [
    {
     "data": {
      "text/plain": [
       "'3.14159'"
      ]
     },
     "execution_count": 37,
     "metadata": {},
     "output_type": "execute_result"
    }
   ],
   "source": [
    "pi = 3.14159\n",
    "str(pi)"
   ]
  },
  {
   "cell_type": "markdown",
   "metadata": {},
   "source": [
    "더 복잡한 포맷에는 [연산자](04-연산자.ipynb)에서 보았던 문자열 연산을 사용할 수 있습니다:"
   ]
  },
  {
   "cell_type": "code",
   "execution_count": 38,
   "metadata": {},
   "outputs": [
    {
     "data": {
      "text/plain": [
       "'The value of pi is 3.14159'"
      ]
     },
     "execution_count": 38,
     "metadata": {},
     "output_type": "execute_result"
    }
   ],
   "source": [
    "\"The value of pi is \" + str(pi)"
   ]
  },
  {
   "cell_type": "markdown",
   "metadata": {},
   "source": [
    "더 유연한 방법은 *포맷 문자열*을 사용하는 것입니다. 문자열로 포맷팅된 값이 삽입되는 특별한 마커(중괄호)가 있는 문자열입니다. 다음이 기본적인 예입니다:"
   ]
  },
  {
   "cell_type": "code",
   "execution_count": 39,
   "metadata": {},
   "outputs": [
    {
     "data": {
      "text/plain": [
       "'The value of pi is 3.14159'"
      ]
     },
     "execution_count": 39,
     "metadata": {},
     "output_type": "execute_result"
    }
   ],
   "source": [
    "\"The value of pi is {}\".format(pi)"
   ]
  },
  {
   "cell_type": "markdown",
   "metadata": {},
   "source": [
    "``{}`` 마커 안에 표시하고 싶은 것이 정확히 무엇인지 정보를 넣을 수 있습니다.\n",
    "숫자를 넣으면 삽입하려는 매개변수의 인덱스를 의미합니다:"
   ]
  },
  {
   "cell_type": "code",
   "execution_count": 40,
   "metadata": {},
   "outputs": [
    {
     "data": {
      "text/plain": [
       "'First letter: A. Last letter: Z.'"
      ]
     },
     "execution_count": 40,
     "metadata": {},
     "output_type": "execute_result"
    }
   ],
   "source": [
    "\"\"\"First letter: {0}. Last letter: {1}.\"\"\".format('A', 'Z')"
   ]
  },
  {
   "cell_type": "markdown",
   "metadata": {},
   "source": [
    "문자열을 넣으면 키워드 매개변수의 키를 의미합니다:"
   ]
  },
  {
   "cell_type": "code",
   "execution_count": 41,
   "metadata": {},
   "outputs": [
    {
     "data": {
      "text/plain": [
       "'First letter: A. Last letter: Z.'"
      ]
     },
     "execution_count": 41,
     "metadata": {},
     "output_type": "execute_result"
    }
   ],
   "source": [
    "\"\"\"First letter: {first}. Last letter: {last}.\"\"\".format(last='Z', first='A')"
   ]
  },
  {
   "cell_type": "markdown",
   "metadata": {},
   "source": [
    "마지막으로 숫자 입력을 위해 문자열로 바뀌는 형식을 제어하기 위한 포맷 코드를 넣을 수 있습니다.\n",
    "예를 들어 소숫점 뒤에 세 자리를 가진 부동 소수로 숫자를 출력하기 위해 다음과 같이 쓸 수 있습니다:"
   ]
  },
  {
   "cell_type": "code",
   "execution_count": 42,
   "metadata": {},
   "outputs": [
    {
     "data": {
      "text/plain": [
       "'pi = 3.142'"
      ]
     },
     "execution_count": 42,
     "metadata": {},
     "output_type": "execute_result"
    }
   ],
   "source": [
    "\"pi = {0:.3f}\".format(pi)"
   ]
  },
  {
   "cell_type": "markdown",
   "metadata": {},
   "source": [
    "이전처럼 \"``0``\"은 삽입되는 값의 인덱스를 의미합니다. \"``:``\" 표시 뒤에는 포맷 코드가 나옵니다.\n",
    "\"``.3f``\"는 원하는 정밀도를 나타냅니다. 소숫점 뒤에 세 자리를 가진 부동 소수 포맷입니다.\n",
    "\n",
    "\n",
    "이런 포맷 스타일은 매우 유연합니다. 여기의 예제는 매우 일부이며 가능한 포맷팅이 매우 많습니다.\n",
    "포맷 문자열의 문법에 관한 더 많은 정보는 파이썬 온라인 문서의 [포맷 규약](https://docs.python.org/ko/3/library/string.html#formatspec)을 참고하세요."
   ]
  },
  {
   "cell_type": "markdown",
   "metadata": {},
   "source": [
    "## 정규 표현식을 사용한 유연한 패턴 매칭\n",
    "\n",
    "파이썬의 ``str`` 타입의 메서드는 포맷팅, 분할, 데이터 처리에 관한 강력한 도구들을 제공해 줍니다.\n",
    "하지만 더욱 강력한 도구가 파이썬의 내장 *정규 표현식* 모듈에서 제공됩니다.\n",
    "정규 표현식은 매우 넓은 주제입니다. 이 주제에 대해서 쓴 책들이 있습니다(Jeffrey E.F. Friedl의 [*Mastering Regular Expressions, 3rd Edition*](http://shop.oreilly.com/product/9780596528126.do)도 포함됩니다). 그래서 하나의 섹션으로 다루긴 매우 힘듭니다.\n",
    "\n",
    "여기서의 목표는 정규 표현식을 사용해야 하는 문제가 어떤 것인지 감을 잡고 파이썬에서 이를 어떻게 사용하는지 기초를 배우는 것입니다. 더 자세한 내용은 [정규 표현식을 위한 참고 자료](#정규-표현식을-위한-참고-자료)를 확인하세요.\n",
    "\n",
    "기본적으로 정규 표현식은 문자열의 유연한 패턴 매칭을 의미합니다.\n",
    "명령행을 많이 사용한다면 와일드 카드처럼 작동하는 \"``*``\" 문자 때문에 이런 매칭에 친숙할지 모릅니다.\n",
    "예를 들어, 파일 이름에 \"파이썬\"이 포함된 모든 IPython 노트북을 (즉, *.ipynb*로 끝나는 파일들) \"``*``\" 와일드카드를 사용하여 그 사이의 어떤 문자와도 매칭하여 출력할 수 있습니다:"
   ]
  },
  {
   "cell_type": "code",
   "execution_count": 43,
   "metadata": {},
   "outputs": [
    {
     "name": "stdout",
     "output_type": "stream",
     "text": [
      "'01-파이썬 코드를 실행하는 방법.ipynb'\t'02-파이썬 문법 빠르게 훑어 보기.ipynb'\r\n"
     ]
    }
   ],
   "source": [
    "!ls *파이썬*.ipynb"
   ]
  },
  {
   "cell_type": "markdown",
   "metadata": {},
   "source": [
    "정규 표현식은 이런 와일드카드 문자를 문자열 매칭 문법으로 크게 확장하여 일반화시킨 것입니다.\n",
    "정규 표현식에 대한 파이썬의 인터페이스는 내장 ``re`` 모듈에 있습니다. 간단한 예로 ``split()`` 메서드의 기능을 똑같이 만들어 보겠습니다:"
   ]
  },
  {
   "cell_type": "code",
   "execution_count": 44,
   "metadata": {},
   "outputs": [
    {
     "data": {
      "text/plain": [
       "['the', 'quick', 'brown', 'fox', 'jumped', 'over', 'a', 'lazy', 'dog']"
      ]
     },
     "execution_count": 44,
     "metadata": {},
     "output_type": "execute_result"
    }
   ],
   "source": [
    "import re\n",
    "regex = re.compile('\\s+')\n",
    "regex.split(line)"
   ]
  },
  {
   "cell_type": "markdown",
   "metadata": {},
   "source": [
    "먼저 정규 표현식을 컴파일하고 이를 사용해 문자열을 분할했습니다.\n",
    "파이썬의 ``split()`` 메서드가 공백 사이의 모든 부분 문자열을 리스트로 반환하는 것처럼 정규 표현식의 ``split()`` 메서드는 입력 패턴에 매칭되는 것 사이의 모든 부분 문자열을 리스트로 반환합니다.\n",
    "\n",
    "이 경우에 입력은 ``\"\\s+\"``입니다. ``\"\\s+\"``는 어떤 공백 문자(공백, 탭, 줄바꿈 등)와도 매칭되는 특별한 문자입니다. \"``+``\"는 그 앞의 요소가 하나 또는 그 이상을 의미하는 문자입니다.\n",
    "그러므로 이 정규 표현식은 하나 또는 그 이상의 공백으로 이루어진 모든 부분 문자열에 매칭됩니다.\n",
    "\n",
    "``split()`` 메서드는 이런 패턴 매칭 방식을 위해 구현된 편의 기능입니다. 조금 더 기본적인 것은 문자열의 시작이 패턴에 매칭되는지 알려 주는 ``match()`` 메서드입니다:"
   ]
  },
  {
   "cell_type": "code",
   "execution_count": 45,
   "metadata": {},
   "outputs": [
    {
     "name": "stdout",
     "output_type": "stream",
     "text": [
      "'     ' matches\n",
      "'abc  ' does not match\n",
      "'  abc' matches\n"
     ]
    }
   ],
   "source": [
    "for s in [\"     \", \"abc  \", \"  abc\"]:\n",
    "    if regex.match(s):\n",
    "        print(repr(s), \"matches\")\n",
    "    else:\n",
    "        print(repr(s), \"does not match\")"
   ]
  },
  {
   "cell_type": "markdown",
   "metadata": {},
   "source": [
    "``split()``와 같이 (``str.index()``나 ``str.find()``처럼) 첫 번째 매칭을 찾거나 (``str.replace()``처럼) 찾아서 바꾸는 편리한 루틴이 있습니다. 이전의 문자열을 다시 사용하겠습니다:"
   ]
  },
  {
   "cell_type": "code",
   "execution_count": 46,
   "metadata": {},
   "outputs": [],
   "source": [
    "line = 'the quick brown fox jumped over a lazy dog'"
   ]
  },
  {
   "cell_type": "markdown",
   "metadata": {},
   "source": [
    "``regex.search()`` 메서드가 ``str.index()``나 ``str.find()``와 매우 비슷하게 작동하는 것을 볼 수 있습니다:"
   ]
  },
  {
   "cell_type": "code",
   "execution_count": 47,
   "metadata": {},
   "outputs": [
    {
     "data": {
      "text/plain": [
       "16"
      ]
     },
     "execution_count": 47,
     "metadata": {},
     "output_type": "execute_result"
    }
   ],
   "source": [
    "line.index('fox')"
   ]
  },
  {
   "cell_type": "code",
   "execution_count": 48,
   "metadata": {},
   "outputs": [
    {
     "data": {
      "text/plain": [
       "16"
      ]
     },
     "execution_count": 48,
     "metadata": {},
     "output_type": "execute_result"
    }
   ],
   "source": [
    "regex = re.compile('fox')\n",
    "match = regex.search(line)\n",
    "match.start()"
   ]
  },
  {
   "cell_type": "markdown",
   "metadata": {},
   "source": [
    "비슷하게 ``regex.sub()`` 메서드는 ``str.replace()``와 비슷하게 동작합니다:"
   ]
  },
  {
   "cell_type": "code",
   "execution_count": 49,
   "metadata": {},
   "outputs": [
    {
     "data": {
      "text/plain": [
       "'the quick brown BEAR jumped over a lazy dog'"
      ]
     },
     "execution_count": 49,
     "metadata": {},
     "output_type": "execute_result"
    }
   ],
   "source": [
    "line.replace('fox', 'BEAR')"
   ]
  },
  {
   "cell_type": "code",
   "execution_count": 50,
   "metadata": {},
   "outputs": [
    {
     "data": {
      "text/plain": [
       "'the quick brown BEAR jumped over a lazy dog'"
      ]
     },
     "execution_count": 50,
     "metadata": {},
     "output_type": "execute_result"
    }
   ],
   "source": [
    "regex.sub('BEAR', line)"
   ]
  },
  {
   "cell_type": "markdown",
   "metadata": {},
   "source": [
    "조금 생각해 보면 다른 기본 문자열 연산도 정규 표현식으로 바꿀 수 있습니다."
   ]
  },
  {
   "cell_type": "markdown",
   "metadata": {},
   "source": [
    "### 더 복잡한 예제\n",
    "\n",
    "하지만 왜 간단하고 쉬운 문자열 메서드 대신에 복잡하고 번거로운 정규 표현식 문법을 사용해야 할까요?\n",
    "정규 표현식을 사용하는 장점은 더욱 유연하기 때문입니다.\n",
    "\n",
    "다음에 조금 더 복잡한 예를 살펴 보겠습니다. 이메일 주소를 매칭하는 작업은 흔하게 발생합니다. 일단 정규 표현식을 하나 쓰고 (조금 난해하지만) 무엇을 의미하는지 알아 보겠습니다:"
   ]
  },
  {
   "cell_type": "code",
   "execution_count": 51,
   "metadata": {},
   "outputs": [],
   "source": [
    "email = re.compile('\\w+@\\w+\\.[a-z]{3}')"
   ]
  },
  {
   "cell_type": "markdown",
   "metadata": {},
   "source": [
    "이를 사용하면 주어진 한 줄 텍스트에서 이메일 주소로 보이는 것을 빠르게 추출할 수 있습니다."
   ]
  },
  {
   "cell_type": "code",
   "execution_count": 52,
   "metadata": {},
   "outputs": [],
   "source": [
    "text = \"To email Guido, try guido@python.org or the older address guido@google.com.\""
   ]
  },
  {
   "cell_type": "code",
   "execution_count": 53,
   "metadata": {},
   "outputs": [
    {
     "data": {
      "text/plain": [
       "['guido@python.org', 'guido@google.com']"
      ]
     },
     "execution_count": 53,
     "metadata": {},
     "output_type": "execute_result"
    }
   ],
   "source": [
    "email.findall(text)"
   ]
  },
  {
   "cell_type": "markdown",
   "metadata": {},
   "source": [
    "(이 주소는 예제를 위해 만든 것입니다. 귀도와 연락하려면 다른 방법을 찾으세요.)\n",
    "\n",
    "이메일 주소를 다른 문자열로 바꾸어 출력에서 이메일 주소를 감추는 등의 다른 작업을 할 수 있습니다:"
   ]
  },
  {
   "cell_type": "code",
   "execution_count": 54,
   "metadata": {},
   "outputs": [
    {
     "data": {
      "text/plain": [
       "'To email Guido, try --@--.-- or the older address --@--.--.'"
      ]
     },
     "execution_count": 54,
     "metadata": {},
     "output_type": "execute_result"
    }
   ],
   "source": [
    "email.sub('--@--.--', text)"
   ]
  },
  {
   "cell_type": "markdown",
   "metadata": {},
   "source": [
    "마지막으로 어떤 이메일 주소와도 매칭하고 싶다면 앞선 정규 표현식은 너무 간단합니다.\n",
    "예를 들어 일반적인 도메인 주소로 끝나는 알파벳과 숫자로된 주소만 매칭이 됩니다.\n",
    "그래서 예를 들어 콤마를 사용하면 주소의 일부만 찾을 수 있습니다:"
   ]
  },
  {
   "cell_type": "code",
   "execution_count": 55,
   "metadata": {},
   "outputs": [
    {
     "data": {
      "text/plain": [
       "['obama@whitehouse.gov']"
      ]
     },
     "execution_count": 55,
     "metadata": {},
     "output_type": "execute_result"
    }
   ],
   "source": [
    "email.findall('barack.obama@whitehouse.gov')"
   ]
  },
  {
   "cell_type": "markdown",
   "metadata": {},
   "source": [
    "이는 주의하지 않으면 얼마나 정규 표현식이 실수하기 쉬운지를 보여줍니다!\n",
    "온라인에서 찾아보면 모든 올바른 이메일에 매칭되는 정규 표현식의 예를 찾을 수 있습니다. 하지만 주의하세요. 여기서 사용한 간단한 표현식보다 훨씬 복잡할 것입니다!"
   ]
  },
  {
   "cell_type": "markdown",
   "metadata": {},
   "source": [
    "### 정규 표현식의 기본 문법\n",
    "\n",
    "정규 표현식의 문법은 작은 섹션에 담기에는 너무 큰 주제입니다.\n",
    "친숙해지려면 꽤 시간이 걸립니다. 여기서는 기본적인 구성을 조금 다루고 더 배울 수 있는 참고 자료를 제시하겠습니다.\n",
    "다음의 간략한 소개가 다른 참고 자료를 사용하는데 도움이 되었으면 좋겠습니다."
   ]
  },
  {
   "cell_type": "markdown",
   "metadata": {},
   "source": [
    "#### 간단한 문자열은 직접 매칭됩니다\n",
    "\n",
    "문자나 숫자로 이루어진 간단한 문자열의 정규 표현식을 만들면 정확히 같은 문자열에 매칭됩니다:"
   ]
  },
  {
   "cell_type": "code",
   "execution_count": 56,
   "metadata": {},
   "outputs": [
    {
     "data": {
      "text/plain": [
       "['ion']"
      ]
     },
     "execution_count": 56,
     "metadata": {},
     "output_type": "execute_result"
    }
   ],
   "source": [
    "regex = re.compile('ion')\n",
    "regex.findall('Great Expectations')"
   ]
  },
  {
   "cell_type": "markdown",
   "metadata": {},
   "source": [
    "#### 일부 문자들은 특별한 의미를 가집니다\n",
    "\n",
    "단순한 문자나 숫자가 직접 매칭되는 반면 정규 표현식 내에서 특별한 의미를 가지는 문자들이 조금 있습니다:\n",
    "```\n",
    ". ^ $ * + ? { } [ ] \\ | ( )\n",
    "```\n",
    "잠시 후에 이 문자들의 의미를 알아 보겠습니다.\n",
    "그 전에 이런 문자들을 직접 매칭하려면 역 슬래시로 이런 문자를 이스케이프해야 합니다:"
   ]
  },
  {
   "cell_type": "code",
   "execution_count": 57,
   "metadata": {},
   "outputs": [
    {
     "data": {
      "text/plain": [
       "['$']"
      ]
     },
     "execution_count": 57,
     "metadata": {},
     "output_type": "execute_result"
    }
   ],
   "source": [
    "regex = re.compile(r'\\$')\n",
    "regex.findall(\"the cost is $20\")"
   ]
  },
  {
   "cell_type": "markdown",
   "metadata": {},
   "source": [
    "``r'\\$'``에서 ``r`` 접두어는 원본 문자열을 의미합니다. 표준 파이썬 문자열에서 역 슬래시는 특별한 문자를 지칭하기 위해 사용됩니다. 예를 들어 탭은 ``\"\\t\"``로 나타냅니다:"
   ]
  },
  {
   "cell_type": "code",
   "execution_count": 58,
   "metadata": {},
   "outputs": [
    {
     "name": "stdout",
     "output_type": "stream",
     "text": [
      "a\tb\tc\n"
     ]
    }
   ],
   "source": [
    "print('a\\tb\\tc')"
   ]
  },
  {
   "cell_type": "markdown",
   "metadata": {},
   "source": [
    "원본 문자열에서는 이런 치환이 일어나지 않습니다:"
   ]
  },
  {
   "cell_type": "code",
   "execution_count": 59,
   "metadata": {},
   "outputs": [
    {
     "name": "stdout",
     "output_type": "stream",
     "text": [
      "a\\tb\\tc\n"
     ]
    }
   ],
   "source": [
    "print(r'a\\tb\\tc')"
   ]
  },
  {
   "cell_type": "markdown",
   "metadata": {},
   "source": [
    "그러므로 정규 표현식에서 역 슬래시를 사용할 땐 원본 문자열을 사용하는 것이 좋습니다."
   ]
  },
  {
   "cell_type": "markdown",
   "metadata": {},
   "source": [
    "#### 특수 문자는 문자 그룹에 매칭할 수 있습니다\n",
    "\n",
    "정규 표현식 안에 있는 ``\"\\\"`` 문자가 특수 문자를 이스케이프해서 일반 문자로 바꿀 수 있는 것처럼 일반 문자에 특별한 의미를 부여할 수도 있습니다.\n",
    "이런 특수 문자는 지정한 문자의 그룹에 매칭되고 이전에 이미 본 적이 있습니다.\n",
    "이메일 주소 정규 표현식에서 어떤 알파벳과 숫자 문자에도 매칭되는 마커인 ``\"\\w\"`` 문자를 사용했습니다. 비슷하게 ``split()`` 예제에서는 어떤 공백 문자와도 매칭되는 ``\"\\s\"``를 보았습니다.\n",
    "\n",
    "이들을 모두 합치면 공백으로 나뉘어진 어떤 두 개의 문자나 숫자를 매칭하는 정규 표현식을 만들 수 있습니다:"
   ]
  },
  {
   "cell_type": "code",
   "execution_count": 60,
   "metadata": {},
   "outputs": [
    {
     "data": {
      "text/plain": [
       "['e f', 'x i', 's 9', 's o']"
      ]
     },
     "execution_count": 60,
     "metadata": {},
     "output_type": "execute_result"
    }
   ],
   "source": [
    "regex = re.compile(r'\\w\\s\\w')\n",
    "regex.findall('the fox is 9 years old')"
   ]
  },
  {
   "cell_type": "markdown",
   "metadata": {},
   "source": [
    "이 예제에서 정규 표현식의 강력함과 유연함을 엿볼 수 있습니다."
   ]
  },
  {
   "cell_type": "markdown",
   "metadata": {},
   "source": [
    "다음 테이블은 자주 사용하는 이런 문자들을 정리해 놓은 것입니다:\n",
    "\n",
    "| 문자 | 설명                 || 문자 | 설명                     |\n",
    "|-----------|-----------------------------||-----------|---------------------------------|\n",
    "| ``\"\\d\"``  | 숫자에 매칭             || ``\"\\D\"``  | 숫자가 아닌 것에 매칭             |\n",
    "| ``\"\\s\"``  | 공백문자에 매칭        || ``\"\\S\"``  | 공백 문자가 아닌 것에 매칭        |\n",
    "| ``\"\\w\"``  | 알파벳과 숫자에 매칭 || ``\"\\W\"``  | 알파벳과 숫자가 아닌 것에 매칭 |\n",
    "\n",
    "이는 전체 리스트와 설명이 아닙니다. 더 자세한 내용은 파이썬의 [정규 표현식 문법 문서](https://docs.python.org/ko/3/library/re.html#re-syntax)를 보세요."
   ]
  },
  {
   "cell_type": "markdown",
   "metadata": {},
   "source": [
    "#### 대괄호는 임의의 문자 그룹과 매칭합니다\n",
    "기본 문자 그룹이 충분하지 않다면 대괄호를 사용해 원하는 어떤 문자 집합을 지정할 수 있습니다.\n",
    "예를 들어 다음은 소문자 모음을 매칭합니다:"
   ]
  },
  {
   "cell_type": "code",
   "execution_count": 61,
   "metadata": {},
   "outputs": [
    {
     "data": {
      "text/plain": [
       "['c', 'ns', 'q', '', 'nt', '', 'l']"
      ]
     },
     "execution_count": 61,
     "metadata": {},
     "output_type": "execute_result"
    }
   ],
   "source": [
    "regex = re.compile('[aeiou]')\n",
    "regex.split('consequential')"
   ]
  },
  {
   "cell_type": "markdown",
   "metadata": {},
   "source": [
    "비슷하게 대시(-)를 사용하면 범위를 지정할 수 있습니다. 예를 들어 ``\"[a-z]\"``는 어떤 소문자와도 매칭되고 ``\"[1-3]\"``은 ``\"1\"``, ``\"2\"``, 또는 ``\"3\"``와 매칭합니다.\n",
    "예를 들어 대문자 뒤에 하나의 숫자로 쓰여진 특별한 숫자 코드를 추출하려고 합니다. 다음과 같이 쓸 수 있습니다:"
   ]
  },
  {
   "cell_type": "code",
   "execution_count": 62,
   "metadata": {},
   "outputs": [
    {
     "data": {
      "text/plain": [
       "['G2', 'H6']"
      ]
     },
     "execution_count": 62,
     "metadata": {},
     "output_type": "execute_result"
    }
   ],
   "source": [
    "regex = re.compile('[A-Z][0-9]')\n",
    "regex.findall('1043879, G2, H6')"
   ]
  },
  {
   "cell_type": "markdown",
   "metadata": {},
   "source": [
    "#### 와일드카드는 반복된 문자에 매칭합니다\n",
    "만약 차례대로 세 개의 알파벳이나 숫자 문자를 매칭하려면 ``\"\\w\\w\\w\"``와 같이 쓸 수 있습니다.\n",
    "이런 일은 자주 생기기 때문에 반복을 매칭하는 특별한 문법인 중괄호로 감싼 숫자가 있습니다:"
   ]
  },
  {
   "cell_type": "code",
   "execution_count": 63,
   "metadata": {},
   "outputs": [
    {
     "data": {
      "text/plain": [
       "['The', 'qui', 'bro', 'fox']"
      ]
     },
     "execution_count": 63,
     "metadata": {},
     "output_type": "execute_result"
    }
   ],
   "source": [
    "regex = re.compile(r'\\w{3}')\n",
    "regex.findall('The quick brown fox')"
   ]
  },
  {
   "cell_type": "markdown",
   "metadata": {},
   "source": [
    "어떤 개수의 반복에도 매칭할 수 있는 마커도 있습니다. ``\"+\"`` 문자는 앞에 나오는 요소에 대해 하나 또는 그 이상의 반복에 매칭합니다:"
   ]
  },
  {
   "cell_type": "code",
   "execution_count": 64,
   "metadata": {},
   "outputs": [
    {
     "data": {
      "text/plain": [
       "['The', 'quick', 'brown', 'fox']"
      ]
     },
     "execution_count": 64,
     "metadata": {},
     "output_type": "execute_result"
    }
   ],
   "source": [
    "regex = re.compile(r'\\w+')\n",
    "regex.findall('The quick brown fox')"
   ]
  },
  {
   "cell_type": "markdown",
   "metadata": {},
   "source": [
    "다음 테이블은 정규 표현식에서 사용할 수 있는 반복 마커입니다:\n",
    "\n",
    "| 문자 | 설명 | 예제 |\n",
    "|-----------|-------------|---------|\n",
    "| ``?`` | 0개 또는 한 개에 매칭합니다  | ``\"ab?\"``는 ``\"a\"`` 또는 ``\"ab\"``에 매칭됩니다 |\n",
    "| ``*`` | 0개 또는 그 이상에 매칭합니다 | ``\"ab*\"``는 ``\"a\"``, ``\"ab\"``, ``\"abb\"``, ``\"abbb\"``...에 매칭합니다 |\n",
    "| ``+`` | 한 개 또는 그 이상에 매칭합니다  | ``\"ab+\"``는 ``\"ab\"``, ``\"abb\"``, ``\"abbb\"``...에 매칭하지만 ``\"a\"``는 아닙니다 |\n",
    "| ``{n}`` | ``n``번 반복에 매칭합니다 | ``\"ab{2}\"``는 ``\"abb\"``에 매칭합니다 |\n",
    "| ``{m,n}`` | ``m``과 ``n`` 반복 사이에 매칭합니다 | ``\"ab{2,3}\"``는 ``\"abb\"`` 또는 ``\"abbb\"``에 매칭합니다 |"
   ]
  },
  {
   "cell_type": "markdown",
   "metadata": {},
   "source": [
    "이런 기본적인 사항을 기억해두고 이메일 주소의 예로 돌아가 보겠습니다:"
   ]
  },
  {
   "cell_type": "code",
   "execution_count": 65,
   "metadata": {},
   "outputs": [],
   "source": [
    "email = re.compile(r'\\w+@\\w+\\.[a-z]{3}')"
   ]
  },
  {
   "cell_type": "markdown",
   "metadata": {},
   "source": [
    "이제 이 의미를 이해할 수 있습니다. 하나 또는 그 이상의 알파벳과 숫자 문자(``\"\\w+\"``)와 그 뒤에 @ 문자(``\"@\"``), 그 뒤에 하나 또는 그 이상의 알파벳과 숫자 문자(``\"\\w+\"``), 그 뒤에 마침표(``\"\\.\"`` - 역 슬래시로 이스케이프해야 합니다), 그 뒤에 세 개의 소문자 글자가 뒤따라야 합니다.\n",
    "\n",
    "이를 오바마 이메일 주소와 매칭하도록 수정하려면 대괄호 표기를 사용할 수 있습니다:"
   ]
  },
  {
   "cell_type": "code",
   "execution_count": 66,
   "metadata": {},
   "outputs": [
    {
     "data": {
      "text/plain": [
       "['barack.obama@whitehouse.gov']"
      ]
     },
     "execution_count": 66,
     "metadata": {},
     "output_type": "execute_result"
    }
   ],
   "source": [
    "email2 = re.compile(r'[\\w.]+@\\w+\\.[a-z]{3}')\n",
    "email2.findall('barack.obama@whitehouse.gov')"
   ]
  },
  {
   "cell_type": "markdown",
   "metadata": {},
   "source": [
    "``\"\\w+\"``에서 ``\"[\\w.]+\"``로 바꾸었으므로 알파벳과 숫자 문자 또는 마침표와 매칭됩니다.\n",
    "표현식을 더 확장하면 더 많은 이메일 주소와 매칭할 수 있습니다."
   ]
  },
  {
   "cell_type": "markdown",
   "metadata": {},
   "source": [
    "#### 소괄호는 추출할 그룹을 지정합니다\n",
    "이메일 주소 예제처럼 복합적인 정규 표현식에서 전체 매칭 대신 일부 요소를 추출하고 싶을 때가 있습니다. 소괄호를 사용하여 이런 결과를 그룹지을 수 있습니다:"
   ]
  },
  {
   "cell_type": "code",
   "execution_count": 67,
   "metadata": {},
   "outputs": [],
   "source": [
    "email3 = re.compile(r'([\\w.]+)@(\\w+)\\.([a-z]{3})')"
   ]
  },
  {
   "cell_type": "code",
   "execution_count": 68,
   "metadata": {},
   "outputs": [],
   "source": [
    "text = \"To email Guido, try guido@python.org or the older address guido@google.com.\""
   ]
  },
  {
   "cell_type": "code",
   "execution_count": 69,
   "metadata": {},
   "outputs": [
    {
     "data": {
      "text/plain": [
       "[('guido', 'python', 'org'), ('guido', 'google', 'com')]"
      ]
     },
     "execution_count": 69,
     "metadata": {},
     "output_type": "execute_result"
    }
   ],
   "source": [
    "email3.findall(text)"
   ]
  },
  {
   "cell_type": "markdown",
   "metadata": {},
   "source": [
    "여기서 보듯이 이런 그룹은 이메일 주소의 모든 부분 요소를 리스트로 추출합니다.\n",
    "\n",
    "더 나아가 ``\"(?P<name> )\"`` 문법을 사용해 추출한 요소에 이름을 부여하여 파이썬 딕셔너리로 추출할수 있습니다:"
   ]
  },
  {
   "cell_type": "code",
   "execution_count": 70,
   "metadata": {},
   "outputs": [
    {
     "data": {
      "text/plain": [
       "{'user': 'guido', 'domain': 'python', 'suffix': 'org'}"
      ]
     },
     "execution_count": 70,
     "metadata": {},
     "output_type": "execute_result"
    }
   ],
   "source": [
    "email4 = re.compile(r'(?P<user>[\\w.]+)@(?P<domain>\\w+)\\.(?P<suffix>[a-z]{3})')\n",
    "match = email4.match('guido@python.org')\n",
    "match.groupdict()"
   ]
  },
  {
   "cell_type": "markdown",
   "metadata": {},
   "source": [
    "이런 아이디어를 결합하면 (여기에서 언급하지 않은 강력한 정규 표현식 문법은 물론) 파이썬에서 문자열로부터 정보를 다양하고 빠르게 추출할 수 있습니다."
   ]
  },
  {
   "cell_type": "markdown",
   "metadata": {},
   "source": [
    "### 정규 표현식을 위한 참고 자료\n",
    "\n",
    "이 섹션의 내용은 방대한 정규 표현식의 주제를 짧게 다룬 것입니다. 더 자세히 알고 싶다면 다음 자료를 추천합니다:\n",
    "\n",
    "- [파이썬의 ``re`` 패키지 문서](https://docs.python.org/ko/3/library/re.html): 이따금 정규 표현식 사용법을 까먹을 때마다 이 문서를 사용합니다. 정규 표현식 안에 있는 특별 문자와 시퀀스를 찾아볼 수 있는 아주 유용한 페이지입니다.\n",
    "- [파이썬의 공식 정규 표현식 하우투](https://docs.python.org/ko/3/howto/regex.html): 파이썬에서 정규 표현식을 사용하는 방법에 대한 조금 더 자세한 설명.\n",
    "- [Mastering Regular Expressions (OReilly, 2006)](http://shop.oreilly.com/product/9780596528126.do)는 이 주제에 대해 쓴 500 페이지가 넘는 책입니다. 만약 정규 표현식을 완벽히 마스터하고 싶다면 이 책이 필요할 것입니다.\n",
    "\n",
    "거시적으로 문자열 처리와 정규 표현식의 예제를 [Pandas: Labeled Column-oriented Data](15-Preview-of-Data-Science-Tools.ipynb#Pandas:-Labeled-Column-oriented-Data)에서 볼 수 있습니다. 판단스 패키지 내에서 문자열 데이터의 테이블에 이런 표현식을 적용하는 예입니다."
   ]
  },
  {
   "cell_type": "markdown",
   "metadata": {},
   "source": [
    "<!--NAVIGATION-->\n",
    "< [모듈과 패키지](13-모듈과 패키지.ipynb) | [목차](목차.ipynb) | [데이터 과학 도구 소개](15-데이터 과학 도구 소개.ipynb) >"
   ]
  }
 ],
 "metadata": {
  "anaconda-cloud": {},
  "kernelspec": {
   "display_name": "TensorFlow 2.3 on Python 3.6 (CUDA 10.1)",
   "language": "python",
   "name": "python3"
  },
  "language_info": {
   "codemirror_mode": {
    "name": "ipython",
    "version": 3
   },
   "file_extension": ".py",
   "mimetype": "text/x-python",
   "name": "python",
   "nbconvert_exporter": "python",
   "pygments_lexer": "ipython3",
   "version": "3.6.9"
  }
 },
 "nbformat": 4,
 "nbformat_minor": 1
}
